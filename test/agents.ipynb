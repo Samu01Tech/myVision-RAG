{
 "cells": [
  {
   "cell_type": "markdown",
   "metadata": {},
   "source": [
    "# RAG for university courses"
   ]
  },
  {
   "cell_type": "markdown",
   "metadata": {},
   "source": [
    "## Setup"
   ]
  },
  {
   "cell_type": "markdown",
   "metadata": {},
   "source": [
    "We install dependecies and set up async support"
   ]
  },
  {
   "cell_type": "code",
   "execution_count": 138,
   "metadata": {},
   "outputs": [
    {
     "name": "stderr",
     "output_type": "stream",
     "text": [
      "huggingface/tokenizers: The current process just got forked, after parallelism has already been used. Disabling parallelism to avoid deadlocks...\n",
      "To disable this warning, you can either:\n",
      "\t- Avoid using `tokenizers` before the fork if possible\n",
      "\t- Explicitly set the environment variable TOKENIZERS_PARALLELISM=(true | false)\n"
     ]
    },
    {
     "name": "stdout",
     "output_type": "stream",
     "text": [
      "Note: you may need to restart the kernel to use updated packages.\n"
     ]
    }
   ],
   "source": [
    "%pip install -Uq llama-index llama-index-llms-groq llama-index-embeddings-huggingface"
   ]
  },
  {
   "cell_type": "code",
   "execution_count": 139,
   "metadata": {},
   "outputs": [],
   "source": [
    "import nest_asyncio\n",
    "\n",
    "nest_asyncio.apply()"
   ]
  },
  {
   "cell_type": "code",
   "execution_count": 140,
   "metadata": {},
   "outputs": [],
   "source": [
    "import os\n",
    "\n",
    "os.environ[\"GROQ_API_KEY\"] = \"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\""
   ]
  },
  {
   "cell_type": "code",
   "execution_count": 141,
   "metadata": {},
   "outputs": [],
   "source": [
    "from llama_index.llms.groq import Groq\n",
    "\n",
    "llm = Groq(model=\"llama3-8b-8192\")\n",
    "llm_70b = Groq(model=\"llama3-70b-8192\")"
   ]
  },
  {
   "cell_type": "markdown",
   "metadata": {},
   "source": [
    "We set up the embedding model. An embedding model is a model that takes a list of strings and returns a list of vectors. "
   ]
  },
  {
   "cell_type": "code",
   "execution_count": 142,
   "metadata": {},
   "outputs": [],
   "source": [
    "from llama_index.embeddings.huggingface import HuggingFaceEmbedding\n",
    "\n",
    "embed_model = HuggingFaceEmbedding(model_name=\"BAAI/bge-m3\")"
   ]
  },
  {
   "cell_type": "markdown",
   "metadata": {},
   "source": [
    "We enable globally the llm and the embedding model to subsitute the OpenAI defautl ones."
   ]
  },
  {
   "cell_type": "code",
   "execution_count": 143,
   "metadata": {},
   "outputs": [],
   "source": [
    "from llama_index.core import Settings\n",
    "\n",
    "Settings.llm = llm\n",
    "Settings.embed_model = embed_model"
   ]
  },
  {
   "cell_type": "markdown",
   "metadata": {},
   "source": [
    "## Loading the data"
   ]
  },
  {
   "cell_type": "code",
   "execution_count": 144,
   "metadata": {},
   "outputs": [
    {
     "name": "stdout",
     "output_type": "stream",
     "text": [
      "48\n",
      "Doc ID: 0c3a6598-5573-4e73-828f-57ce4231ed90\n",
      "Text: Application Process - Details, deadlines, and requirements are\n",
      "published on the 2025 Admissions Portal. - Test preparation resources\n",
      "and simulations are available on the CISIA Website.\n"
     ]
    }
   ],
   "source": [
    "from llama_index.core import SimpleDirectoryReader\n",
    "\n",
    "documents = SimpleDirectoryReader(\"documents\").load_data()\n",
    "\n",
    "print(len(documents))\n",
    "print(documents[15])"
   ]
  },
  {
   "cell_type": "markdown",
   "metadata": {},
   "source": [
    "We are going to load each document separately"
   ]
  },
  {
   "cell_type": "code",
   "execution_count": 145,
   "metadata": {},
   "outputs": [
    {
     "name": "stdout",
     "output_type": "stream",
     "text": [
      "['unitn-computer-science.md', 'unitn-industrial-engineering.md', 'unitn-mathematics.md']\n"
     ]
    }
   ],
   "source": [
    "import os\n",
    "\n",
    "file_paths = []\n",
    "for x in os.listdir(\"documents\"):\n",
    "    if x.endswith(\".md\"):\n",
    "        file_paths.append(x)\n",
    "\n",
    "print(file_paths[:3])"
   ]
  },
  {
   "cell_type": "code",
   "execution_count": 146,
   "metadata": {},
   "outputs": [
    {
     "name": "stderr",
     "output_type": "stream",
     "text": [
      "huggingface/tokenizers: The current process just got forked, after parallelism has already been used. Disabling parallelism to avoid deadlocks...\n",
      "To disable this warning, you can either:\n",
      "\t- Avoid using `tokenizers` before the fork if possible\n",
      "\t- Explicitly set the environment variable TOKENIZERS_PARALLELISM=(true | false)\n"
     ]
    },
    {
     "name": "stdout",
     "output_type": "stream",
     "text": [
      "Note: you may need to restart the kernel to use updated packages.\n"
     ]
    }
   ],
   "source": [
    "%pip install -Uq unstructured"
   ]
  },
  {
   "cell_type": "code",
   "execution_count": 147,
   "metadata": {},
   "outputs": [
    {
     "name": "stdout",
     "output_type": "stream",
     "text": [
      "Idx 0/3\n",
      "unitn-computer-science.md\n",
      "Idx 1/3\n",
      "unitn-industrial-engineering.md\n",
      "Idx 2/3\n",
      "unitn-mathematics.md\n",
      "{'path': 'unitn-computer-science.md', 'university': 'unitn', 'course': 'computer science'}\n",
      "Bachelor's Degree in Computer Science - University of Trento\n",
      "\n",
      "Program Overview\n",
      "\n",
      "- **Level**: Bachelor's Degree (First Cycle)\n",
      "- **Duration**: 3 years\n",
      "- **Degree Class**: L-31 - Computer Science and Technologies\n",
      "- **Language**: Offered in **Italian** and **English**\n",
      "- **Admission**: **Limited enrollment**, requires passing an admission test\n",
      "- **Location**: Department of Information Engineering and Computer Science, Via Sommarive 5, 38123 Povo (TN), Italy\n",
      "\n",
      "About the Program\n",
      "\n",
      "Computer Science at the University of Trento integrates elements from **Science** and **Engineering**:\n",
      "- From **Science**, it inherits **curiosity**, such as exploring philosophical aspects of problem-solving.\n",
      "- From **Engineering**, it inherits **methodological rigor** in solving problems.\n",
      "\n",
      "Key Features\n",
      "- Recognized as one of the foundational pillars of modern sciences, alongside **theory** and **experimentation**.\n",
      "- Highly **pervasive** in modern society and a major contributor to economic growth.\n",
      "- Combines **theoretical foundations** and **practical tools** to enable industrial-grade software development.\n",
      "\n",
      "Strengths of the Program\n",
      "- **Balanced Curriculum**: Combines theoretical and laboratory courses throughout the program.\n",
      "- **Job Placement**: Graduates find employment within 2 months on average (source: Almalaurea).\n",
      "- **Prestigious Recognition**: Received the **GRIN Quality Certification** for course content excellence.\n",
      "- **International Focus**: 20% of faculty and 40% of master's students are international, with extensive Erasmus and exchange opportunities.\n",
      "- **Strong Industry Links**: Regular industry events like **ICT Days** offer networking and recruitment opportunities.\n",
      "- **Modern Curriculum**: Emphasizes both foundational knowledge and cutting-edge technologies.\n",
      "\n",
      "Learning Outcomes\n",
      "\n",
      "Graduates will acquire:\n",
      "- **Analytical Skills**: Ability to analyze complex systems (organizations, services, artificial systems).\n",
      "- **Problem-Solving Expertise**: Identifying key processes and proposing implementable models.\n",
      "- **Adaptability**: Versatility to adapt to rapid innovation and diverse work environments.\n",
      "\n",
      "Career Prospects\n",
      "\n",
      "Graduates can:\n",
      "- Enter the workforce directly with a solid technical foundation in areas such as **networks**, **systems**, and **data management**.\n",
      "- Pursue **management roles** with advanced studies, combining problem-solving skills with leadership and innovation.\n",
      "- Leverage opportunities in fast-growing sectors where startups often outpace established firms.\n",
      "\n",
      "Potential Roles\n",
      "- **Programmers**\n",
      "- **Network and System Administrators**\n",
      "- **Database Administrators**\n",
      "- **Application Developers**\n",
      "\n",
      "Further Studies\n",
      "\n",
      "Graduates can continue their education with master's programs, including:\n",
      "- **Computer Science**\n",
      "- **Information Engineering**\n",
      "- **Artificial Intelligence Systems**\n",
      "- **Data Science**\n",
      "- **Human-Computer Interaction**\n",
      "- **Quantitative and Computational Biology**\n",
      "- Related fields like **Mathematics**, **Economics**, and **Management**.\n",
      "\n",
      "Curriculum Structure\n",
      "\n",
      "Core Courses (Compulsory - 180 Credits Total)\n",
      "| Course | Credits (CFU) |\n",
      "| --- | --- |\n",
      "| Mathematical Analysis 1 | 12 |\n",
      "| Geometry and Linear Algebra | 6 |\n",
      "| Programming 1 | 12 |\n",
      "| Computer Architecture | 6 |\n",
      "| Mathematical Foundations for Computer Science | 6 |\n",
      "| Probability and Statistics | 6 |\n",
      "| Programming 2 | 6 |\n",
      "| Functional Programming | 6 |\n",
      "| Algorithms and Data Structures | 12 |\n",
      "| Software Engineering | 12 |\n",
      "| Databases | 6 |\n",
      "| Networks | 6 |\n",
      "| Operating Systems | 12 |\n",
      "| Computational Logic | 6 |\n",
      "| Physics | 6 |\n",
      "| Formal Languages and Compilers | 12 |\n",
      "| Introduction to Machine Learning | 6 |\n",
      "\n",
      "Elective Courses (Choose 12 Credits)\n",
      "| Course | Credits (CFU) |\n",
      "| --- | --- |\n",
      "| Introduction to Web Programming | 6 |\n",
      "| Human-Computer Interaction (English) | 6 |\n",
      "| Logic Circuits | 6 |\n",
      "| Signal Processing Basics | 6 |\n",
      "| Computer and Network Security (English) | 6 |\n",
      "| Information Systems | 6 |\n",
      "| Advanced Programming | 6 |\n",
      "| Mobile and Tablet Systems Programming Lab | 6 |\n",
      "| Optimization Techniques (English) | 6 |\n",
      "| Mathematical Analysis 2 | 6 |\n",
      "| Free Electives | 12 |\n",
      "\n",
      "Additional Requirements\n",
      "| Activity | Credits (CFU) |\n",
      "| --- | --- |\n",
      "| Internship | 9 |\n",
      "| English Language B1 Level | 3 |\n",
      "| Final Thesis | 6 |\n",
      "\n",
      "Admissions for Academic Year 2025/2026\n",
      "\n",
      "Admission Requirements\n",
      "- High school diploma or equivalent qualification recognized internationally.\n",
      "- Admission test (**TOLC**) organized by **CISIA** (Interuniversity Consortium for Integrated Access Systems).\n",
      "\n",
      "Application Process\n",
      "- Details, deadlines, and requirements are published on the 2025 Admissions Portal.\n",
      "- Test preparation resources and simulations are available on the CISIA Website.\n",
      "\n",
      "Transfers and Credit Recognition\n",
      "- Applications for transfers or credit recognition (e.g., from completed degrees or discontinued studies) must be submitted by **February 3, 2025**.\n",
      "- Available only to EU citizens and non-EU citizens already residing in Italy.\n",
      "\n",
      "Contact Information\n",
      "For further details, visit the University of Trento Official Website or contact the Department of Information Engineering and Computer Science.\n"
     ]
    }
   ],
   "source": [
    "from llama_index.readers.file import MarkdownReader\n",
    "from llama_index.core import Document\n",
    "\n",
    "reader = MarkdownReader(\n",
    "    \n",
    ")\n",
    "\n",
    "doc_limit = 3\n",
    "docs = []\n",
    "for idx, f in enumerate(file_paths):\n",
    "    if idx > doc_limit:\n",
    "        break\n",
    "    print(f\"Idx {idx}/{len(file_paths)}\")\n",
    "    loaded_docs = reader.load_data(file=f\"documents/{f}\")\n",
    "    loaded_doc = Document(\n",
    "        text=\"\\n\\n\".join([d.get_content() for d in loaded_docs]),\n",
    "        metadata={\"path\": str(f), \"university\": str(f.split(\"-\")[0]), \"course\": str(\" \".join(f.split(\"-\")[1:]).split(\".\")[0])},\n",
    "    )\n",
    "    print(loaded_doc.metadata[\"path\"])\n",
    "    docs.append(loaded_doc)\n",
    "\n",
    "print(docs[0].metadata)\n",
    "print(docs[0].text)"
   ]
  },
  {
   "cell_type": "markdown",
   "metadata": {},
   "source": [
    "## Indexing"
   ]
  },
  {
   "cell_type": "code",
   "execution_count": 148,
   "metadata": {},
   "outputs": [],
   "source": [
    "from llama_index.core import VectorStoreIndex\n",
    "\n",
    "index = VectorStoreIndex.from_documents(documents)\n",
    "query_engine = index.as_query_engine(similarity_top_k=3)"
   ]
  },
  {
   "cell_type": "markdown",
   "metadata": {},
   "source": [
    "## Agent building"
   ]
  },
  {
   "cell_type": "code",
   "execution_count": 149,
   "metadata": {},
   "outputs": [],
   "source": [
    "from llama_index.core.agent import ReActAgent\n",
    "from llama_index.core import (\n",
    "    load_index_from_storage,\n",
    "    StorageContext,\n",
    "    VectorStoreIndex,\n",
    ")\n",
    "from llama_index.core import SummaryIndex\n",
    "from llama_index.core.tools import QueryEngineTool, ToolMetadata\n",
    "from llama_index.core.node_parser import MarkdownNodeParser\n",
    "import os\n",
    "from tqdm.notebook import tqdm\n",
    "import pickle\n",
    "from pathlib import Path\n",
    "\n",
    "\n",
    "async def build_agent_per_doc(nodes, file_base):\n",
    "    print(file_base)\n",
    "\n",
    "    vi_out_path = f\"./documents/llamaindex_docs/{file_base}\"\n",
    "    summary_out_path = f\"./documents/llamaindex_docs/{file_base}_summary.pkl\"\n",
    "    if not os.path.exists(vi_out_path):\n",
    "        Path(\"./documents/llamaindex_docs/\").mkdir(parents=True, exist_ok=True)\n",
    "        # build vector index\n",
    "        vector_index = VectorStoreIndex(nodes)\n",
    "        vector_index.storage_context.persist(persist_dir=vi_out_path)\n",
    "    else:\n",
    "        vector_index = load_index_from_storage(\n",
    "            StorageContext.from_defaults(persist_dir=vi_out_path),\n",
    "        )\n",
    "\n",
    "    # build summary index\n",
    "    summary_index = SummaryIndex(nodes)\n",
    "\n",
    "    # define query engines\n",
    "    vector_query_engine = vector_index.as_query_engine(llm=llm)\n",
    "    summary_query_engine = summary_index.as_query_engine(\n",
    "        response_mode=\"tree_summarize\", llm=llm\n",
    "    )\n",
    "\n",
    "    # extract a summary\n",
    "    if not os.path.exists(summary_out_path):\n",
    "        Path(summary_out_path).parent.mkdir(parents=True, exist_ok=True)\n",
    "        summary = str(\n",
    "            await summary_query_engine.aquery(\n",
    "                \"Extract a concise 1-2 line summary of this document\"\n",
    "            )\n",
    "        )\n",
    "        pickle.dump(summary, open(summary_out_path, \"wb\"))\n",
    "    else:\n",
    "        summary = pickle.load(open(summary_out_path, \"rb\"))\n",
    "\n",
    "    # define tools\n",
    "    query_engine_tools = [\n",
    "        QueryEngineTool(\n",
    "            query_engine=vector_query_engine,\n",
    "            metadata=ToolMetadata(\n",
    "                name=f\"vector_tool_{file_base}\",\n",
    "                description=f\"Useful for questions related to specific facts\",\n",
    "            ),\n",
    "        ),\n",
    "        QueryEngineTool(\n",
    "            query_engine=summary_query_engine,\n",
    "            metadata=ToolMetadata(\n",
    "                name=f\"summary_tool_{file_base}\",\n",
    "                description=f\"Useful for summarization questions\",\n",
    "            ),\n",
    "        ),\n",
    "    ]\n",
    "\n",
    "    # build agent\n",
    "    agent = ReActAgent.from_tools(\n",
    "        query_engine_tools,\n",
    "        llm=llm_70b,\n",
    "        verbose=True,\n",
    "        system_prompt=f\"\"\"\\\n",
    "You are a specialized agent designed to answer queries about the `{file_base}.md part of a chatbot that helps you choose university courses`.\n",
    "You must ALWAYS use at least one of the tools provided when answering a question; do NOT rely on prior knowledge.\\\n",
    "\"\"\",\n",
    "    )\n",
    "\n",
    "    return agent, summary\n",
    "\n",
    "\n",
    "async def build_agents(docs):\n",
    "    node_parser = MarkdownNodeParser(\n",
    "        include_metadata=True,\n",
    "        include_prev_next_rel=True,\n",
    "    )\n",
    "\n",
    "    # Build agents dictionary\n",
    "    agents_dict = {}\n",
    "    extra_info_dict = {}\n",
    "\n",
    "    # # this is for the baseline\n",
    "    # all_nodes = []\n",
    "\n",
    "    for idx, doc in enumerate(tqdm(docs)):\n",
    "        nodes = node_parser.get_nodes_from_documents([doc])\n",
    "        # all_nodes.extend(nodes)\n",
    "\n",
    "        # ID will be base + parent\n",
    "        file_path = Path(doc.metadata[\"path\"])\n",
    "        file_base = str(file_path.parent.stem) + \"_\" + str(file_path.stem)\n",
    "        agent, summary = await build_agent_per_doc(nodes, file_base)\n",
    "\n",
    "        agents_dict[file_base] = agent\n",
    "        extra_info_dict[file_base] = {\"summary\": summary, \"nodes\": nodes}\n",
    "\n",
    "    return agents_dict, extra_info_dict"
   ]
  },
  {
   "cell_type": "code",
   "execution_count": 150,
   "metadata": {},
   "outputs": [
    {
     "data": {
      "application/vnd.jupyter.widget-view+json": {
       "model_id": "d04d1e8a7cfd415993879014fce76948",
       "version_major": 2,
       "version_minor": 0
      },
      "text/plain": [
       "  0%|          | 0/3 [00:00<?, ?it/s]"
      ]
     },
     "metadata": {},
     "output_type": "display_data"
    },
    {
     "name": "stdout",
     "output_type": "stream",
     "text": [
      "_unitn-computer-science\n",
      "_unitn-industrial-engineering\n",
      "_unitn-mathematics\n",
      "dict_keys(['_unitn-computer-science', '_unitn-industrial-engineering', '_unitn-mathematics'])\n",
      "dict_keys(['_unitn-computer-science', '_unitn-industrial-engineering', '_unitn-mathematics'])\n"
     ]
    }
   ],
   "source": [
    "agents_dict, extra_info_dict = await build_agents(docs)\n",
    "\n",
    "print(agents_dict.keys())\n",
    "print(extra_info_dict.keys())"
   ]
  },
  {
   "cell_type": "code",
   "execution_count": 151,
   "metadata": {},
   "outputs": [],
   "source": [
    "# define tool for each document agent\n",
    "all_tools = []\n",
    "for file_base, agent in agents_dict.items():\n",
    "    summary = extra_info_dict[file_base][\"summary\"]\n",
    "    doc_tool = QueryEngineTool(\n",
    "        query_engine=agent,\n",
    "        metadata=ToolMetadata(\n",
    "            name=f\"tool_{file_base}\",\n",
    "            description=summary,\n",
    "        ),\n",
    "    )\n",
    "    all_tools.append(doc_tool)"
   ]
  },
  {
   "cell_type": "code",
   "execution_count": 152,
   "metadata": {},
   "outputs": [
    {
     "name": "stdout",
     "output_type": "stream",
     "text": [
      "ToolMetadata(description=\"The Bachelor's Degree in Mathematics at the University of Trento aims to train graduates with a solid foundation in core mathematics and the ability to apply mathematical models in various fields, while also developing critical thinking, teamwork, and digital skills.\", name='tool__unitn-mathematics', fn_schema=<class 'llama_index.core.tools.types.DefaultToolFnSchema'>, return_direct=False)\n"
     ]
    }
   ],
   "source": [
    "print(all_tools[2].metadata)"
   ]
  },
  {
   "cell_type": "code",
   "execution_count": 153,
   "metadata": {},
   "outputs": [
    {
     "name": "stderr",
     "output_type": "stream",
     "text": [
      "huggingface/tokenizers: The current process just got forked, after parallelism has already been used. Disabling parallelism to avoid deadlocks...\n",
      "To disable this warning, you can either:\n",
      "\t- Avoid using `tokenizers` before the fork if possible\n",
      "\t- Explicitly set the environment variable TOKENIZERS_PARALLELISM=(true | false)\n"
     ]
    },
    {
     "name": "stdout",
     "output_type": "stream",
     "text": [
      "Note: you may need to restart the kernel to use updated packages.\n"
     ]
    }
   ],
   "source": [
    "%pip install -Uq llama-index-postprocessor-colbert-rerank"
   ]
  },
  {
   "cell_type": "code",
   "execution_count": 154,
   "metadata": {},
   "outputs": [],
   "source": [
    "# define an \"object\" index and retriever over these tools\n",
    "from llama_index.core import VectorStoreIndex\n",
    "from llama_index.core.objects import (\n",
    "    ObjectIndex,\n",
    "    ObjectRetriever,\n",
    ")\n",
    "from llama_index.core.query_engine import SubQuestionQueryEngine\n",
    "from llama_index.core.schema import QueryBundle\n",
    "from llama_index.llms.openai import OpenAI\n",
    "\n",
    "obj_index = ObjectIndex.from_objects(\n",
    "    all_tools,\n",
    "    index_cls=VectorStoreIndex,\n",
    ")\n",
    "vector_node_retriever = obj_index.as_node_retriever(\n",
    "    similarity_top_k=10,\n",
    ")\n",
    "\n",
    "\n",
    "# define a custom object retriever that adds in a query planning tool\n",
    "class CustomObjectRetriever(ObjectRetriever):\n",
    "    def __init__(\n",
    "        self,\n",
    "        retriever,\n",
    "        object_node_mapping,\n",
    "        node_postprocessors=None,\n",
    "        llm=None,\n",
    "    ):\n",
    "        self._retriever = retriever\n",
    "        self._object_node_mapping = object_node_mapping\n",
    "        self._llm = llm\n",
    "        self._node_postprocessors = node_postprocessors or []\n",
    "\n",
    "    def retrieve(self, query_bundle):\n",
    "        if isinstance(query_bundle, str):\n",
    "            query_bundle = QueryBundle(query_str=query_bundle)\n",
    "\n",
    "        nodes = self._retriever.retrieve(query_bundle)\n",
    "        for processor in self._node_postprocessors:\n",
    "            nodes = processor.postprocess_nodes(\n",
    "                nodes, query_bundle=query_bundle\n",
    "            )\n",
    "        tools = [self._object_node_mapping.from_node(n.node) for n in nodes]\n",
    "\n",
    "        sub_question_engine = SubQuestionQueryEngine.from_defaults(\n",
    "            query_engine_tools=tools, llm=self._llm\n",
    "        )\n",
    "        sub_question_description = f\"\"\"\\\n",
    "Useful for any queries that involve comparing multiple documents. ALWAYS use this tool for comparison queries - make sure to call this \\\n",
    "tool with the original query. Do NOT use the other tools for any queries involving multiple documents.\n",
    "\"\"\"\n",
    "        sub_question_tool = QueryEngineTool(\n",
    "            query_engine=sub_question_engine,\n",
    "            metadata=ToolMetadata(\n",
    "                name=\"compare_tool\", description=sub_question_description\n",
    "            ),\n",
    "        )\n",
    "\n",
    "        return tools + [sub_question_tool]"
   ]
  },
  {
   "cell_type": "code",
   "execution_count": 155,
   "metadata": {},
   "outputs": [],
   "source": [
    "# wrap it with ObjectRetriever to return objects\n",
    "from llama_index.postprocessor.colbert_rerank import ColbertRerank\n",
    "\n",
    "colbert_reranker = ColbertRerank(\n",
    "    top_n=5,\n",
    "    model=\"colbert-ir/colbertv2.0\",\n",
    "    tokenizer=\"colbert-ir/colbertv2.0\",\n",
    "    keep_retrieval_score=True,\n",
    ")\n",
    "\n",
    "\n",
    "custom_obj_retriever = CustomObjectRetriever(\n",
    "    vector_node_retriever,\n",
    "    obj_index.object_node_mapping,\n",
    "    node_postprocessors=[colbert_reranker],\n",
    "    llm=llm,\n",
    ")"
   ]
  },
  {
   "cell_type": "code",
   "execution_count": 156,
   "metadata": {},
   "outputs": [
    {
     "name": "stdout",
     "output_type": "stream",
     "text": [
      "4\n"
     ]
    }
   ],
   "source": [
    "tmps = custom_obj_retriever.retrieve(\"hello\")\n",
    "\n",
    "# should be 5 + 1 -- 5 from reranker, 1 from subquestion\n",
    "print(len(tmps))"
   ]
  },
  {
   "cell_type": "code",
   "execution_count": 157,
   "metadata": {},
   "outputs": [],
   "source": [
    "from llama_index.core.agent import ReActAgent\n",
    "\n",
    "top_agent = ReActAgent.from_tools(\n",
    "    tool_retriever=custom_obj_retriever,\n",
    "    system_prompt=\"\"\" \\\n",
    "You are an agent designed to answer queries about the documentation.\n",
    "Please always use the tools provided to answer a question. Do not rely on prior knowledge.\\\n",
    "\n",
    "\"\"\",\n",
    "    llm=llm_70b,\n",
    "    verbose=True,\n",
    ")"
   ]
  },
  {
   "cell_type": "code",
   "execution_count": 158,
   "metadata": {},
   "outputs": [
    {
     "name": "stdout",
     "output_type": "stream",
     "text": [
      "> Running step 62ae713f-50c0-4fda-a4a2-d7512fe74130. Step input: List all industrial engineering subjects\n",
      "\u001b[1;3;38;5;200mThought: The current language of the user is: English. I need to use a tool to help me answer the question.\n",
      "Action: tool__unitn-industrial-engineering\n",
      "Action Input: {'input': 'List all industrial engineering subjects'}\n",
      "\u001b[0m> Running step 0b03666a-e6aa-4356-a3cc-0699e849af6a. Step input: List all industrial engineering subjects\n",
      "\u001b[1;3;38;5;200mThought: The current language of the user is: English. I need to use a tool to help me answer the question.\n",
      "Action: vector_tool__unitn-industrial-engineering\n",
      "Action Input: {'input': 'list all industrial engineering subjects'}\n",
      "\u001b[0m\u001b[1;3;34mObservation: Here is the list of industrial engineering subjects:\n",
      "\n",
      "* Mathematics\n",
      "* Chemistry\n",
      "* Physics\n",
      "* Computer Science\n",
      "* Materials for Sustainable Industry\n",
      "* Introduction to information engineering\n",
      "* Robotics and Mechatronics\n",
      "* Management Engineering\n",
      "\u001b[0m> Running step f930267d-04e3-4052-abef-6cc14ff3cb55. Step input: None\n",
      "\u001b[1;3;38;5;200mThought: I got a list of industrial engineering subjects, but it might not be exhaustive. I need to use another tool to summarize and get a better understanding of the subjects.\n",
      "Action: summary_tool__unitn-industrial-engineering\n",
      "Action Input: {'input': 'The industrial engineering subjects include Mathematics, Chemistry, Physics, Computer Science, Materials for Sustainable Industry, Introduction to information engineering, Robotics and Mechatronics, and Management Engineering.'}\n",
      "\u001b[0m\u001b[1;3;34mObservation: The first year provides foundational knowledge essential for all students, covering the following subjects: Mathematics, Chemistry, Physics, and Computer Science.\n",
      "\u001b[0m> Running step 2b1837c4-91f5-4412-9e16-19e497222eee. Step input: None\n",
      "\u001b[1;3;38;5;200mThought: I have a better understanding of the industrial engineering subjects now. It seems that the first year focuses on foundational knowledge, and the rest of the subjects are more specialized. I can answer the question without using any more tools.\n",
      "Answer: The industrial engineering subjects include foundational subjects like Mathematics, Chemistry, Physics, and Computer Science, as well as more specialized subjects like Materials for Sustainable Industry, Introduction to information engineering, Robotics and Mechatronics, and Management Engineering.\n",
      "\u001b[0m\u001b[1;3;34mObservation: The industrial engineering subjects include foundational subjects like Mathematics, Chemistry, Physics, and Computer Science, as well as more specialized subjects like Materials for Sustainable Industry, Introduction to information engineering, Robotics and Mechatronics, and Management Engineering.\n",
      "\u001b[0m> Running step f79d4093-5655-4b5e-9322-a8e0d2958ed7. Step input: None\n",
      "\u001b[1;3;38;5;200mThought: I have the list of industrial engineering subjects, but I want to know if there are any similarities with other fields like computer science and mathematics.\n",
      "Action: compare_tool\n",
      "Action Input: {'input': 'Compare industrial engineering subjects with computer science and mathematics subjects'}\n",
      "\u001b[0mGenerated 7 sub questions.\n",
      "\u001b[1;3;38;2;237;90;200m[tool__unitn-industrial-engineering] Q: What are the foundational subjects in the first year of the Bachelor's Degree in Industrial Engineering at UniTrento?\n",
      "\u001b[0m> Running step 98f81fbc-762f-40db-9da1-a6a13dd7f65c. Step input: What are the foundational subjects in the first year of the Bachelor's Degree in Industrial Engineering at UniTrento?\n",
      "\u001b[1;3;38;2;90;149;237m[tool__unitn-industrial-engineering] Q: What are the specialized tracks in Materials, Robotics, and Management Engineering in the Bachelor's Degree in Industrial Engineering at UniTrento?\n",
      "\u001b[0m> Running step 8a52a740-715b-406e-8d60-2b83a4e4c36f. Step input: What are the specialized tracks in Materials, Robotics, and Management Engineering in the Bachelor's Degree in Industrial Engineering at UniTrento?\n",
      "\u001b[1;3;38;2;11;159;203m[tool__unitn-computer-science] Q: What are the theoretical foundations and practical tools used in the Bachelor's Degree in Computer Science at the University of Trento?\n",
      "\u001b[0m> Running step cb2644fd-78cf-43eb-a474-77fa2bcc22ac. Step input: What are the theoretical foundations and practical tools used in the Bachelor's Degree in Computer Science at the University of Trento?\n",
      "\u001b[1;3;38;2;155;135;227m[tool__unitn-mathematics] Q: What are the core mathematics subjects in the Bachelor's Degree in Mathematics at the University of Trento?\n",
      "\u001b[0m> Running step 94bfbea0-0534-4221-9365-212c28a9b54d. Step input: What are the core mathematics subjects in the Bachelor's Degree in Mathematics at the University of Trento?\n",
      "\u001b[1;3;38;2;237;90;200m[tool__unitn-industrial-engineering] Q: How do industrial engineering subjects compare to computer science and mathematics subjects in terms of job placement rate?\n",
      "\u001b[0m> Running step ec332c48-5220-4cc4-aa2f-2ec52957aa3b. Step input: How do industrial engineering subjects compare to computer science and mathematics subjects in terms of job placement rate?\n",
      "\u001b[1;3;38;2;90;149;237m[tool__unitn-industrial-engineering] Q: What are the key differences between the Bachelor's Degree in Industrial Engineering at UniTrento and the Bachelor's Degree in Computer Science at the University of Trento?\n",
      "\u001b[0m> Running step e9dfff9a-eec8-4063-b97a-7e3071ff556c. Step input: What are the key differences between the Bachelor's Degree in Industrial Engineering at UniTrento and the Bachelor's Degree in Computer Science at the University of Trento?\n",
      "\u001b[1;3;38;2;11;159;203m[tool__unitn-industrial-engineering] Q: What are the key differences between the Bachelor's Degree in Industrial Engineering at UniTrento and the Bachelor's Degree in Mathematics at the University of Trento?\n",
      "\u001b[0m> Running step 8dfb82a2-e8c9-464d-b70a-6a8f7262a28f. Step input: What are the key differences between the Bachelor's Degree in Industrial Engineering at UniTrento and the Bachelor's Degree in Mathematics at the University of Trento?\n",
      "\u001b[1;3;38;5;200mThought: The current language of the user is: English. I need to use a tool to help me answer the question.\n",
      "Action: vector_tool__unitn-industrial-engineering\n",
      "Action Input: {'input': \"foundational subjects in the first year of the Bachelor's Degree in Industrial Engineering at UniTrento\"}\n",
      "\u001b[0m\u001b[1;3;38;5;200mThought: The current language of the user is: English. I need to use a tool to help me answer the question.\n",
      "Action: vector_tool__unitn-mathematics\n",
      "Action Input: {'input': \"Bachelor's Degree in Mathematics at the University of Trento core subjects\"}\n",
      "\u001b[0m\u001b[1;3;38;5;200mThought: The current language of the user is: English. I need to use a tool to help me answer the question.\n",
      "Action: vector_tool__unitn-industrial-engineering\n",
      "Action Input: {'input': \"Bachelor's Degree in Industrial Engineering at UniTrento vs Bachelor's Degree in Computer Science at the University of Trento\"}\n",
      "\u001b[0m\u001b[1;3;38;5;200mThought: The current language of the user is: English. I need to use a tool to help me answer the question.\n",
      "Action: vector_tool__unitn-industrial-engineering\n",
      "Action Input: {'input': 'job placement rate of industrial engineering, computer science, and mathematics subjects'}\n",
      "\u001b[0m\u001b[1;3;34mObservation: Mathematics, Chemistry, Physics, and Computer Science.\n",
      "\u001b[0m> Running step 796a40a6-a578-4575-b9ab-f2827f2f5449. Step input: None\n",
      "\u001b[1;3;34mObservation: Algebra, geometry, mathematical analysis, and probability.\n",
      "\u001b[0m> Running step a374c30d-4885-4780-873c-d5fe37b131ba. Step input: None\n",
      "\u001b[1;3;38;5;200mThought: The current language of the user is: English. I need to use a tool to help me answer the question.\n",
      "Action: vector_tool__unitn-industrial-engineering\n",
      "Action Input: {'input': \"Bachelor's Degree in Industrial Engineering at UniTrento vs Bachelor's Degree in Mathematics at the University of Trento\"}\n",
      "\u001b[0m\u001b[1;3;38;5;200mThought: The current language of the user is: English. I need to use a tool to help me answer the question.\n",
      "Action: vector_tool__unitn-computer-science\n",
      "Action Input: {'input': \"Bachelor's Degree in Computer Science at the University of Trento\"}\n",
      "\u001b[0m\u001b[1;3;34mObservation: Nearly 100% employment rates.\n",
      "\u001b[0m> Running step 36a2a0ec-630d-4e3d-8aea-7ff6c62b394a. Step input: None\n",
      "\u001b[1;3;34mObservation: The Bachelor's Degree in Industrial Engineering at UniTrento and the Bachelor's Degree in Computer Science at the University of Trento are two distinct programs with different focuses. The Industrial Engineering program at UniTrento emphasizes the study of traditional and innovative materials, product life cycles, transformation technologies, and sustainable production processes, while also introducing students to information engineering and robotics. In contrast, the Computer Science program at the University of Trento likely focuses on the design, development, and application of computer systems and algorithms.\n",
      "\u001b[0m> Running step 2400e10f-c1f3-421b-a114-a7da9c104520. Step input: None\n",
      "\u001b[1;3;38;5;200mThought: The current language of the user is: English. I need to use a tool to help me answer the question.\n",
      "Action: vector_tool__unitn-industrial-engineering\n",
      "Action Input: {'input': \"specialized tracks in Materials, Robotics, and Management Engineering in the Bachelor's Degree in Industrial Engineering at UniTrento\"}\n",
      "\u001b[0m\u001b[1;3;34mObservation: The Bachelor's Degree in Industrial Engineering at UniTrento and the Bachelor's Degree in Mathematics at the University of Trento are two distinct programs with different focuses. The Industrial Engineering program at UniTrento is a selective program that requires candidates to pass an entrance examination, whereas the Mathematics program at the University of Trento may have different admission requirements. The Industrial Engineering program at UniTrento has a strong emphasis on practical skills, with students having the option to choose from three specialized tracks, whereas the Mathematics program at the University of Trento may focus more on theoretical aspects of mathematics.\n",
      "\u001b[0m> Running step c635b2b6-f42e-45d0-bc65-d445748a4fd0. Step input: None\n",
      "\u001b[1;3;34mObservation: A three-year program that integrates elements from Science and Engineering, recognized as one of the foundational pillars of modern sciences.\n",
      "\u001b[0m> Running step 8db4c0cc-51ba-4260-9fb9-224b5aae707a. Step input: None\n",
      "\u001b[1;3;34mObservation: The program offers three specialized tracks, which students can choose from starting from the second year and continuing through the third year. These tracks are Materials for Sustainable Industry, Robotics and Mechatronics, and Management Engineering.\n",
      "\u001b[0m> Running step 3b24d7b2-8bbe-4305-b291-b7bdf1ed73a7. Step input: None\n",
      "\u001b[1;3;38;5;200mThought: I can answer without using any more tools. I'll use the user's language to answer\n",
      "Answer: The foundational subjects in the first year of the Bachelor's Degree in Industrial Engineering at UniTrento are Mathematics, Chemistry, Physics, and Computer Science.\n",
      "\u001b[0m\u001b[1;3;38;2;237;90;200m[tool__unitn-industrial-engineering] A: The foundational subjects in the first year of the Bachelor's Degree in Industrial Engineering at UniTrento are Mathematics, Chemistry, Physics, and Computer Science.\n",
      "\u001b[0m\u001b[1;3;38;5;200mThought: I have the core mathematics subjects, but I need to provide a more detailed answer to the user's question.\n",
      "Action: summary_tool__unitn-mathematics\n",
      "Action Input: {'input': \"The Bachelor's Degree in Mathematics at the University of Trento covers core subjects including Algebra, which deals with the study of mathematical symbols and the rules for manipulating these symbols. Geometry focuses on the study of shapes, sizes, and positions of objects. Mathematical Analysis is a branch of mathematics that deals with the study of limits, convergence of sequences and series, and continuity. Probability is a measure of the likelihood of an event occurring.\"}\n",
      "\u001b[0m\u001b[1;3;34mObservation: The Bachelor's Degree in Mathematics aims to provide students with a solid foundation in core areas of mathematics, including algebra, geometry, mathematical analysis, and probability.\n",
      "\u001b[0m> Running step 0a2ab6f4-0879-4dd1-9e36-454f9ce30005. Step input: None\n",
      "\u001b[1;3;38;5;200mThought: The tool has provided a general idea about the job placement rate, but I need more specific information to give a detailed comparison.\n",
      "Action: vector_tool__unitn-industrial-engineering\n",
      "Action Input: {'input': 'job placement rates of industrial engineering, computer science, and mathematics subjects in different industries'}\n",
      "\u001b[0m\u001b[1;3;38;5;200mThought: I can answer without using any more tools. I'll use the user's language to answer\n",
      "Answer: The specialized tracks in Materials, Robotics, and Management Engineering in the Bachelor's Degree in Industrial Engineering at UniTrento are Materials for Sustainable Industry, Robotics and Mechatronics, and Management Engineering.\n",
      "\u001b[0m\u001b[1;3;38;2;90;149;237m[tool__unitn-industrial-engineering] A: The specialized tracks in Materials, Robotics, and Management Engineering in the Bachelor's Degree in Industrial Engineering at UniTrento are Materials for Sustainable Industry, Robotics and Mechatronics, and Management Engineering.\n",
      "\u001b[0m\u001b[1;3;34mObservation: According to the program's career opportunities, graduates of the Bachelor's Degree in Industrial Engineering have nearly 100% employment rates. The program prepares students for various industries, including Design and Production, Quality Control, Technical and Commercial Support, Research and Development, and Organization and Management.\n",
      "\u001b[0m> Running step 0ba00f87-5e85-46a8-8313-b1824f577bcc. Step input: None\n",
      "\u001b[1;3;38;5;200mThought: The observation provides some information, but I need more specific details about the theoretical foundations and practical tools used in the program.\n",
      "Action: vector_tool__unitn-computer-science\n",
      "Action Input: {'input': \"theoretical foundations and practical tools used in the Bachelor's Degree in Computer Science at the University of Trento\"}\n",
      "\u001b[0m\u001b[1;3;34mObservation: Combines theoretical foundations and practical tools to enable industrial-grade software development.\n",
      "\u001b[0m> Running step 2c903027-ecf2-4ca0-8020-6e0b534142c1. Step input: None\n",
      "\u001b[1;3;38;5;200mThought: The observation provides some information about the combination of theoretical foundations and practical tools, but I need more specific details about the theoretical foundations and practical tools used in the program.\n",
      "Action: summary_tool__unitn-computer-science\n",
      "Action Input: {'input': \"theoretical foundations and practical tools used in the Bachelor's Degree in Computer Science at the University of Trento\"}\n",
      "\u001b[0m\u001b[1;3;38;5;200mThought: I have some information, but I need more details to provide a comprehensive answer.\n",
      "Action: vector_tool__unitn-industrial-engineering\n",
      "Action Input: {'input': \"curriculum and career prospects of Bachelor's Degree in Industrial Engineering at UniTrento and Bachelor's Degree in Mathematics at the University of Trento\"}\n",
      "\u001b[0m\u001b[1;3;38;5;200mThought: I have some information, but I need to summarize the key differences to answer the question.\n",
      "Action: summary_tool__unitn-industrial-engineering\n",
      "Action Input: {'input': 'The Industrial Engineering program at UniTrento emphasizes the study of traditional and innovative materials, product life cycles, transformation technologies, and sustainable production processes, while also introducing students to information engineering and robotics. In contrast, the Computer Science program at the University of Trento likely focuses on the design, development, and application of computer systems and algorithms.'}\n",
      "\u001b[0m\u001b[1;3;34mObservation: The Industrial Engineering program at UniTrento provides foundational knowledge in various subjects, including Mathematics, Chemistry, Physics, and Computer Science. It also offers three specialized tracks: Materials for Sustainable Industry, Robotics and Mechatronics, and Management Engineering. The Materials for Sustainable Industry track focuses on sustainable materials, product life cycles, transformation technologies, and sustainable production processes, while introducing information engineering to understand the role of IT in production systems.\n",
      "\u001b[0m> Running step 2cdb518a-c7fb-4959-823e-6bce32348628. Step input: None\n",
      "\u001b[1;3;34mObservation: The program combines theoretical foundations and practical tools to enable industrial-grade software development.\n",
      "\u001b[0m> Running step a09b7401-af14-4263-ac94-0a1ae047c977. Step input: None\n",
      "\u001b[1;3;34mObservation: The Bachelor's Degree in Industrial Engineering at UniTrento offers a comprehensive curriculum that covers foundational subjects in the first year, followed by specialized tracks in Materials for Sustainable Industry, Robotics and Mechatronics, or Management Engineering. The program prepares students for various career paths, including design and production, quality control, technical and commercial support, research and development, and organization and management.\n",
      "\n",
      "In contrast, the Bachelor's Degree in Mathematics at the University of Trento would likely focus on mathematical theories and applications, with a strong emphasis on mathematical rigor and problem-solving skills. Career prospects for mathematics graduates might include roles in data analysis, scientific research, actuarial science, or teaching, among others.\n",
      "\n",
      "While both programs can lead to rewarding careers, the Industrial Engineering program at UniTrento offers a more applied and interdisciplinary approach, with a focus on practical problem-solving and collaboration with other fields. The Mathematics program, on the other hand, would provide a deeper understanding of mathematical concepts and their applications in various fields.\n",
      "\u001b[0m> Running step 1920978a-e776-4c08-89ff-2661c084ef05. Step input: None\n",
      "\u001b[1;3;38;5;200mThought: I have enough information to compare the job placement rates of industrial engineering, computer science, and mathematics subjects.\n",
      "Answer: Industrial engineering, computer science, and mathematics subjects all have high job placement rates, with industrial engineering having nearly 100% employment rates. Industrial engineering graduates have a wide range of career opportunities in various industries, including Design and Production, Quality Control, Technical and Commercial Support, Research and Development, and Organization and Management.\n",
      "\u001b[0m\u001b[1;3;38;2;237;90;200m[tool__unitn-industrial-engineering] A: Industrial engineering, computer science, and mathematics subjects all have high job placement rates, with industrial engineering having nearly 100% employment rates. Industrial engineering graduates have a wide range of career opportunities in various industries, including Design and Production, Quality Control, Technical and Commercial Support, Research and Development, and Organization and Management.\n",
      "\u001b[0m\u001b[1;3;38;5;200mThought: I can answer without using any more tools. I'll use the user's language to answer\n",
      "Answer: The core mathematics subjects in the Bachelor's Degree in Mathematics at the University of Trento are algebra, geometry, mathematical analysis, and probability.\n",
      "\u001b[0m\u001b[1;3;38;2;155;135;227m[tool__unitn-mathematics] A: The core mathematics subjects in the Bachelor's Degree in Mathematics at the University of Trento are algebra, geometry, mathematical analysis, and probability.\n",
      "\u001b[0m\u001b[1;3;38;5;200mThought: I have enough information to answer the question without using any more tools. I'll use the user's language to answer.\n",
      "Answer: The theoretical foundations and practical tools used in the Bachelor's Degree in Computer Science at the University of Trento combine to enable industrial-grade software development.\n",
      "\u001b[0m\u001b[1;3;38;2;11;159;203m[tool__unitn-computer-science] A: The theoretical foundations and practical tools used in the Bachelor's Degree in Computer Science at the University of Trento combine to enable industrial-grade software development.\n",
      "\u001b[0m"
     ]
    },
    {
     "name": "stderr",
     "output_type": "stream",
     "text": [
      "WARNING:llama_index.llms.openai.utils:Retrying llama_index.llms.openai.base.OpenAI._achat in 1.0 seconds as it raised RateLimitError: Error code: 429 - {'error': {'message': 'Rate limit reached for model `llama3-70b-8192` in organization `org_01je4823x7ev08zcydjkwvfsyn` on tokens per minute (TPM): Limit 6000, Used 5693, Requested 1489. Please try again in 11.814s. Visit https://console.groq.com/docs/rate-limits for more information.', 'type': 'tokens', 'code': 'rate_limit_exceeded'}}.\n"
     ]
    },
    {
     "name": "stdout",
     "output_type": "stream",
     "text": [
      "\u001b[1;3;38;5;200mThought: I have enough information to answer the question without using any more tools.\n",
      "Answer: The key differences between the Bachelor's Degree in Industrial Engineering at UniTrento and the Bachelor's Degree in Computer Science at the University of Trento are the focus areas. The Industrial Engineering program at UniTrento provides a broad foundation in subjects like Mathematics, Chemistry, Physics, and Computer Science, and offers specialized tracks in Materials, Robotics, and Management Engineering, with a focus on sustainable production processes and the role of IT in production systems. In contrast, the Computer Science program at the University of Trento likely focuses on the design, development, and application of computer systems and algorithms.\n",
      "\u001b[0m\u001b[1;3;38;2;90;149;237m[tool__unitn-industrial-engineering] A: The key differences between the Bachelor's Degree in Industrial Engineering at UniTrento and the Bachelor's Degree in Computer Science at the University of Trento are the focus areas. The Industrial Engineering program at UniTrento provides a broad foundation in subjects like Mathematics, Chemistry, Physics, and Computer Science, and offers specialized tracks in Materials, Robotics, and Management Engineering, with a focus on sustainable production processes and the role of IT in production systems. In contrast, the Computer Science program at the University of Trento likely focuses on the design, development, and application of computer systems and algorithms.\n",
      "\u001b[0m\u001b[1;3;38;5;200mThought: I have enough information to answer the question without using any more tools.\n",
      "Answer: The key differences between the Bachelor's Degree in Industrial Engineering at UniTrento and the Bachelor's Degree in Mathematics at the University of Trento lie in their curricula and career prospects. The Industrial Engineering program offers a comprehensive curriculum with specialized tracks in Materials, Robotics, and Management Engineering, preparing students for careers in design, production, quality control, research, and management. In contrast, the Mathematics program focuses on mathematical theories and applications, leading to careers in data analysis, research, actuarial science, or teaching. While both programs have their strengths, the Industrial Engineering program is more applied and interdisciplinary, whereas the Mathematics program provides a deeper understanding of mathematical concepts.\n",
      "\u001b[0m\u001b[1;3;38;2;11;159;203m[tool__unitn-industrial-engineering] A: The key differences between the Bachelor's Degree in Industrial Engineering at UniTrento and the Bachelor's Degree in Mathematics at the University of Trento lie in their curricula and career prospects. The Industrial Engineering program offers a comprehensive curriculum with specialized tracks in Materials, Robotics, and Management Engineering, preparing students for careers in design, production, quality control, research, and management. In contrast, the Mathematics program focuses on mathematical theories and applications, leading to careers in data analysis, research, actuarial science, or teaching. While both programs have their strengths, the Industrial Engineering program is more applied and interdisciplinary, whereas the Mathematics program provides a deeper understanding of mathematical concepts.\n",
      "\u001b[0m\u001b[1;3;34mObservation: Industrial engineering, computer science, and mathematics subjects all have high job placement rates, with industrial engineering having nearly 100% employment rates. Industrial engineering graduates have a wide range of career opportunities in various industries, including Design and Production, Quality Control, Technical and Commercial Support, Research and Development, and Organization and Management.\n",
      "\u001b[0m> Running step 01fa04fe-5e6c-4504-aba0-8a380b73ac4f. Step input: None\n",
      "\u001b[1;3;38;5;200mThought: I have the comparison of industrial engineering with computer science and mathematics, but I want to know more about the specific subjects in computer science and mathematics.\n",
      "Action: tool__unitn-computer-science\n",
      "Action Input: {'input': 'List computer science subjects'}\n",
      "\u001b[0m> Running step f809064a-0763-4bd8-88e2-61d297d0e9f3. Step input: List computer science subjects\n",
      "\u001b[1;3;38;5;200mThought: The current language of the user is: English. I need to use a tool to help me answer the question.\n",
      "Action: vector_tool__unitn-computer-science\n",
      "Action Input: {'input': 'computer science subjects'}\n",
      "\u001b[0m\u001b[1;3;34mObservation: The program combines theoretical foundations and practical tools to enable industrial-grade software development. The curriculum includes core courses such as Programming 1, Computer Architecture, Mathematical Foundations for Computer Science, and Algorithms and Data Structures. Elective courses include Introduction to Web Programming, Human-Computer Interaction, Logic Circuits, and Computer and Network Security.\n",
      "\u001b[0m> Running step cb438b98-c235-4219-803d-df4c07e2be9f. Step input: None\n",
      "\u001b[1;3;38;5;200mThought: The tool has provided some information about a computer science program, but it's not a comprehensive list of computer science subjects. I need to use another tool to help me answer the question.\n",
      "Action: summary_tool__unitn-computer-science\n",
      "Action Input: {'input': 'computer science subjects including programming, algorithms, data structures, computer architecture, human-computer interaction, logic circuits, computer and network security, web programming, and more'}\n",
      "\u001b[0m\u001b[1;3;34mObservation: The program integrates elements from Science and Engineering, combining theoretical foundations and practical tools to enable industrial-grade software development. It offers a balanced curriculum, including core courses and elective courses.\n",
      "\u001b[0m> Running step a06ba587-c174-413d-90f1-298116142e78. Step input: None\n",
      "\u001b[1;3;34mObservation: Error: Could not parse output. Please follow the thought-action-input format. Try again.\n",
      "\u001b[0m> Running step 77e232e7-5cf6-4744-a993-28d4b5047372. Step input: None\n",
      "\u001b[1;3;34mObservation: Error: Could not parse output. Please follow the thought-action-input format. Try again.\n",
      "\u001b[0m> Running step a7c27f5f-1091-403b-afe3-d5689d92ff1d. Step input: None\n",
      "\u001b[1;3;34mObservation: Error: Could not parse output. Please follow the thought-action-input format. Try again.\n",
      "\u001b[0m> Running step 592fe293-9759-42c3-80bd-87e3ce2f8470. Step input: None\n",
      "\u001b[1;3;38;5;200mThought: The tool has not provided a comprehensive list of computer science subjects. I need to use my knowledge to answer the question.\n",
      "Answer: Computer science subjects include algorithms, computer architecture, computer networks, computer vision, cryptography, data structures, databases, human-computer interaction, machine learning, operating systems, programming languages, software engineering, web development, and more.\n",
      "\u001b[0m\u001b[1;3;34mObservation: Computer science subjects include algorithms, computer architecture, computer networks, computer vision, cryptography, data structures, databases, human-computer interaction, machine learning, operating systems, programming languages, software engineering, web development, and more.\n",
      "\u001b[0m> Running step 32e3c3b7-c908-42dc-9aa4-ee744bd084b6. Step input: None\n",
      "\u001b[1;3;38;5;200mThought: I have the list of computer science subjects, now I want to know more about the specific subjects in mathematics.\n",
      "Action: tool__unitn-mathematics\n",
      "Action Input: {'input': 'List mathematics subjects'}\n",
      "\u001b[0m> Running step ac24975e-74e9-4473-9be9-40d8e1af9e62. Step input: List mathematics subjects\n",
      "\u001b[1;3;38;5;200mThought: The current language of the user is: English. I need to use a tool to help me answer the question.\n",
      "Action: vector_tool__unitn-mathematics\n",
      "Action Input: {'input': 'list mathematics subjects'}\n",
      "\u001b[0m\u001b[1;3;34mObservation: Algebra A, Algebra B, Geometry A, Geometry B, Geometry C, Mathematical Analysis A1, Mathematical Analysis A2, Mathematical Analysis B, Mathematical Analysis C, Mathematical Physics Foundations, Numerical Analysis I, Numerical Analysis II, Probability and Mathematical Statistics, Probability Calculus II.\n",
      "\u001b[0m> Running step d45cdcc9-90e1-4065-80a8-b9ecfb56e2f2. Step input: None\n",
      "\u001b[1;3;38;5;200mThought: I have received a list of mathematics subjects, but I need to organize and summarize them to provide a clear answer.\n",
      "Action: summary_tool__unitn-mathematics\n",
      "Action Input: {'input': 'Algebra A, Algebra B, Geometry A, Geometry B, Geometry C, Mathematical Analysis A1, Mathematical Analysis A2, Mathematical Analysis B, Mathematical Analysis C, Mathematical Physics Foundations, Numerical Analysis I, Numerical Analysis II, Probability and Mathematical Statistics, Probability Calculus II'}\n",
      "\u001b[0m\u001b[1;3;34mObservation: Here is the list of courses:\n",
      "\n",
      "1. Algebra A\n",
      "2. Algebra B\n",
      "3. Geometry A\n",
      "4. Geometry B\n",
      "5. Geometry C\n",
      "6. Mathematical Analysis A1\n",
      "7. Mathematical Analysis A2\n",
      "8. Mathematical Analysis B\n",
      "9. Mathematical Analysis C\n",
      "10. Mathematical Physics Foundations\n",
      "11. Numerical Analysis I\n",
      "12. Numerical Analysis II\n",
      "13. Probability and Mathematical Statistics\n",
      "14. Probability Calculus II\n",
      "\u001b[0m> Running step edcdb15c-6a10-4d85-b2ab-419041bbb646. Step input: None\n",
      "\u001b[1;3;38;5;200mThought: I have received a well-organized list of mathematics subjects. I can answer the question without using any more tools.\n",
      "Answer: The list of mathematics subjects includes Algebra A, Algebra B, Geometry A, Geometry B, Geometry C, Mathematical Analysis A1, Mathematical Analysis A2, Mathematical Analysis B, Mathematical Analysis C, Mathematical Physics Foundations, Numerical Analysis I, Numerical Analysis II, Probability and Mathematical Statistics, and Probability Calculus II.\n",
      "\u001b[0m\u001b[1;3;34mObservation: The list of mathematics subjects includes Algebra A, Algebra B, Geometry A, Geometry B, Geometry C, Mathematical Analysis A1, Mathematical Analysis A2, Mathematical Analysis B, Mathematical Analysis C, Mathematical Physics Foundations, Numerical Analysis I, Numerical Analysis II, Probability and Mathematical Statistics, and Probability Calculus II.\n",
      "\u001b[0m> Running step e28e63a1-1c17-418f-bb57-da80bcc64e2b. Step input: None\n",
      "\u001b[1;3;38;5;200mThought: I have the lists of industrial engineering, computer science, and mathematics subjects. I can now answer the original question without using any more tools.\n",
      "Answer: The industrial engineering subjects include foundational subjects like Mathematics, Chemistry, Physics, and Computer Science, as well as more specialized subjects like Materials for Sustainable Industry, Introduction to information engineering, Robotics and Mechatronics, and Management Engineering.\n",
      "\u001b[0m"
     ]
    }
   ],
   "source": [
    "response = top_agent.query(\"List all industrial engineering subjects\")"
   ]
  },
  {
   "cell_type": "code",
   "execution_count": 161,
   "metadata": {},
   "outputs": [
    {
     "name": "stdout",
     "output_type": "stream",
     "text": [
      "Here is the list of industrial engineering subjects:\n",
      "\n",
      "* Management Engineering\n",
      "* Industrial Plants\n"
     ]
    }
   ],
   "source": [
    "print(response)"
   ]
  },
  {
   "cell_type": "code",
   "execution_count": 162,
   "metadata": {},
   "outputs": [
    {
     "name": "stdout",
     "output_type": "stream",
     "text": [
      "Here is the list of industrial engineering subjects:\n",
      "\n",
      "* Management Engineering\n",
      "* Industrial Plants\n"
     ]
    }
   ],
   "source": [
    "response = query_engine.query(\"List all industrial engineering subjects\")\n",
    "\n",
    "print(response)"
   ]
  }
 ],
 "metadata": {
  "kernelspec": {
   "display_name": ".venv",
   "language": "python",
   "name": "python3"
  },
  "language_info": {
   "codemirror_mode": {
    "name": "ipython",
    "version": 3
   },
   "file_extension": ".py",
   "mimetype": "text/x-python",
   "name": "python",
   "nbconvert_exporter": "python",
   "pygments_lexer": "ipython3",
   "version": "3.12.3"
  }
 },
 "nbformat": 4,
 "nbformat_minor": 2
}
